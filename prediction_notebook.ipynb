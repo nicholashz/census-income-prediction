{
 "cells": [
  {
   "cell_type": "markdown",
   "metadata": {},
   "source": [
    "# Prediction on the Income Dataset via Machine Learning\n",
    "## Nick Heise\n",
    "### December 2018\n",
    "\n",
    "<ol>\n",
    "    <li>Introduction</li>\n",
    "    <li>Reading and Cleaning of Dataset</li>\n",
    "    <li>One-Hot Encoding of Categorical Data</li>\n",
    "    <li>Scaling the Continuous Data</li>\n",
    "    <li>Machine Learning</li>\n",
    "    <ol>\n",
    "        <li>Initial Training and Model Selection</li>\n",
    "        <li>Feature Selection</li>\n",
    "    </ol>\n",
    "    <li>Conclusion</li>\n",
    "</ol>"
   ]
  },
  {
   "cell_type": "markdown",
   "metadata": {},
   "source": [
    "## 1. Introduction\n",
    "\n",
    "<p>This notebook manipulates the data of the income dataset, trains machine learning models, and selects the optimal features and model for predicting if an individual earns more than 50k or not. For an analysis of the dataset, please read the other jupyter notebook included in this project (analysis_notebook.ipynb).</p>"
   ]
  },
  {
   "cell_type": "code",
   "execution_count": 1,
   "metadata": {},
   "outputs": [],
   "source": [
    "import os\n",
    "\n",
    "import pandas as pd\n",
    "import numpy as np\n",
    "import seaborn as sns\n",
    "import matplotlib.pyplot as plt\n",
    "\n",
    "from sklearn.preprocessing import LabelEncoder, MinMaxScaler\n",
    "from sklearn.linear_model import LogisticRegression\n",
    "from sklearn.ensemble import RandomForestClassifier, GradientBoostingClassifier\n",
    "\n",
    "pd.set_option('display.max_columns', None)\n",
    "sns.set_palette(palette=sns.color_palette('colorblind'))"
   ]
  },
  {
   "cell_type": "markdown",
   "metadata": {},
   "source": [
    "## 2. Reading and Cleaning of Dataset\n",
    "\n",
    "<p>The dataset given was scraped without column names. Fortunately, we have been given a metadeta document detailing the various columns, their data types, and their values. We'll use the columns provided in this document to properly set the columns.</p>\n",
    "<p>Note that original income-related columns were removed, and the binary 'income' column was added. Further, as detailed in the metadeta document, 'instance_weight' should not be used for classification and is therefore removed.<p>"
   ]
  },
  {
   "cell_type": "code",
   "execution_count": 2,
   "metadata": {},
   "outputs": [],
   "source": [
    "train_df =  pd.read_csv(os.path.join('census_income_data', 'census_income_learn.csv'))\n",
    "test_df = pd.read_csv(os.path.join('census_income_data', 'census_income_test.csv'))\n",
    "\n",
    "column_names = ['age', 'class_of_worker', 'industry_code', 'occupation_code',\n",
    "                'education', 'wage_per_hour', 'enrolled_in_edu_inst_last_wk',\n",
    "                'marital_status', 'major_industry_code', 'major_occupation_code', 'race', \n",
    "                'hispanic_origin', 'sex', 'member_of_a_labor_union', 'reason_for_unemployment', \n",
    "                'full_or_part_time_employment_stat', 'capital_gains', 'dividends_from_stocks',\n",
    "                'federal_income_tax_liability', 'tax_filer_status', 'region_of_previous_residence', \n",
    "                'state_of_previous_residence', 'detailed_household_and_family_stat', \n",
    "                'detailed_household_summary_in_household', 'instance_weight',\n",
    "                'migration_code_change_in_msa', 'migration_code_change_in_reg', \n",
    "                'migration_code_move_within_reg', 'live_in_this_house_1yr_ago', \n",
    "                'migration_prev_res_in_sunbelt', 'num_persons_worked_for_employer',\n",
    "                'family_persons_under_18', 'country_of_birth_father', \n",
    "                'country_of_birth_mother', 'country_of_birth_self', 'citizenship', \n",
    "                'own_business_or_self_employed', 'fill_inc_questionnaire_for_veterans_admin', \n",
    "                'veterans_benefits', 'weeks_worked_in_year', 'year', 'income']\n",
    "                \n",
    "for df in [train_df, test_df]:\n",
    "    df.columns = column_names\n",
    "    df.drop(labels='instance_weight', axis='columns', inplace=True)"
   ]
  },
  {
   "cell_type": "code",
   "execution_count": 3,
   "metadata": {},
   "outputs": [
    {
     "name": "stdout",
     "output_type": "stream",
     "text": [
      "Training set has 199522 samples, with 41 columns.\n",
      "Test set has 99761 samples, with 41 columns.\n"
     ]
    }
   ],
   "source": [
    "print('Training set has {} samples, with {} columns.'.format(train_df.shape[0], train_df.shape[1]))\n",
    "print('Test set has {} samples, with {} columns.'.format(test_df.shape[0], test_df.shape[1]))"
   ]
  },
  {
   "cell_type": "markdown",
   "metadata": {},
   "source": [
    "<p>The target column for this dataset, 'income', contains a string value: '-50000' or '50000+'. In reality, we want this column be a binary value where 1 corresponds to the person earning over 50,000 dollars, and 0 corresponds to earning less. Here we encode the values accordingly:</p>"
   ]
  },
  {
   "cell_type": "code",
   "execution_count": 4,
   "metadata": {},
   "outputs": [],
   "source": [
    "label_enc = LabelEncoder()\n",
    "for df in [train_df, test_df]:\n",
    "    df['over_50k_income'] = label_enc.fit_transform(df['income'])\n",
    "    df.drop(labels='income', axis='columns', inplace=True)"
   ]
  },
  {
   "cell_type": "markdown",
   "metadata": {},
   "source": [
    "## 3. One-Hot Encoding of Categorical Data\n",
    "### Motivation\n",
    "<p>For best performance of training a model on categorical data, we would like to convert all categorical data features to one-hot encoded values. This allows the model to train properly on numerical data, but also avoids creating any false relationships as would be done via a simple encoding. For most of these features, there is no relationship between the categories (i.e. it cannot be said that a certain industry code 'is greater than' another, so we cannot just encode the values to 1, 2, 3, etc). While it could be said that some features do have this relation, such as education, we choose to perform a one-hot encoding on all categorical features.</p>\n",
    "<p>It should be noted that this greatly increases the dimensionality of the dataset from around 40 to around 500 columns. This causes models to train much slower, which is why feature selection will performed to reduce the complexity and prevent over-fitting.</p>"
   ]
  },
  {
   "cell_type": "code",
   "execution_count": 5,
   "metadata": {},
   "outputs": [],
   "source": [
    "categorical_features = ['class_of_worker',\n",
    "                        'industry_code',\n",
    "                        'occupation_code',\n",
    "                        'education', \n",
    "                        'enrolled_in_edu_inst_last_wk', \n",
    "                        'marital_status',\n",
    "                        'major_industry_code',\n",
    "                        'major_occupation_code',\n",
    "                        'race', \n",
    "                        'hispanic_origin', \n",
    "                        'sex', \n",
    "                        'member_of_a_labor_union', \n",
    "                        'reason_for_unemployment', \n",
    "                        'full_or_part_time_employment_stat',\n",
    "                        'tax_filer_status', \n",
    "                        'region_of_previous_residence', \n",
    "                        'state_of_previous_residence', \n",
    "                        'detailed_household_and_family_stat', \n",
    "                        'detailed_household_summary_in_household', \n",
    "                        'migration_code_change_in_msa', \n",
    "                        'migration_code_change_in_reg', \n",
    "                        'migration_code_move_within_reg', \n",
    "                        'live_in_this_house_1yr_ago', \n",
    "                        'migration_prev_res_in_sunbelt',\n",
    "                        'family_persons_under_18', \n",
    "                        'country_of_birth_father', \n",
    "                        'country_of_birth_mother', \n",
    "                        'country_of_birth_self', \n",
    "                        'citizenship', \n",
    "                        'own_business_or_self_employed', \n",
    "                        'fill_inc_questionnaire_for_veterans_admin', \n",
    "                        'veterans_benefits',\n",
    "                        'year']"
   ]
  },
  {
   "cell_type": "code",
   "execution_count": 6,
   "metadata": {},
   "outputs": [],
   "source": [
    "# perform the one-hot encoding for all categorical features\n",
    "for feature in categorical_features:\n",
    "    train_dummies = pd.get_dummies(data=train_df[feature], prefix=feature)\n",
    "    train_df = pd.concat([train_df, train_dummies], axis=1)\n",
    "\n",
    "    test_dummies = pd.get_dummies(data=test_df[feature], prefix=feature)\n",
    "    test_df = pd.concat([test_df, test_dummies], axis=1)\n",
    "\n",
    "# drop the original feature columns\n",
    "for df in [train_df, test_df]:\n",
    "    df.drop(labels=categorical_features, axis='columns', inplace=True)"
   ]
  },
  {
   "cell_type": "markdown",
   "metadata": {},
   "source": [
    "## 4. Scaling the Continuous Data\n",
    "### Motivation\n",
    "<p>Some models perform very poorly on datasets with very different scales. For example, the logistic regression used in this project performs significantly better once data is scaled between 0 and 1. Thus, we want to apply this scaling to the continuous features of our dataset to optimise the performance of our model.</p>\n",
    "<p>It is important to note that the scaler is fit to the train dataset values, and then used to transform both the train and test values. This is to ensure that test values are scaled according to the values used to train the model, which will produce the best result.</p>"
   ]
  },
  {
   "cell_type": "code",
   "execution_count": 7,
   "metadata": {},
   "outputs": [],
   "source": [
    "cont_features = ['age', \n",
    "                 'wage_per_hour', \n",
    "                 'capital_gains', \n",
    "                 'dividends_from_stocks',\n",
    "                 'federal_income_tax_liability', \n",
    "                 'num_persons_worked_for_employer',\n",
    "                 'weeks_worked_in_year']"
   ]
  },
  {
   "cell_type": "code",
   "execution_count": 8,
   "metadata": {},
   "outputs": [
    {
     "name": "stderr",
     "output_type": "stream",
     "text": [
      "c:\\users\\nick\\pythonprojects\\dataiku-test\\venv\\lib\\site-packages\\sklearn\\preprocessing\\data.py:323: DataConversionWarning: Data with input dtype int64 were all converted to float64 by MinMaxScaler.\n",
      "  return self.partial_fit(X, y)\n"
     ]
    }
   ],
   "source": [
    "# scale the continuous values to be between 0 and 1\n",
    "scaler = MinMaxScaler()\n",
    "scaler.fit(train_df[cont_features])\n",
    "for df in [train_df, test_df]:\n",
    "    df[cont_features] = scaler.transform(df[cont_features])"
   ]
  },
  {
   "cell_type": "markdown",
   "metadata": {},
   "source": [
    "### Correcting after the transformations\n",
    "\n",
    "<p>We notice that the train and test set no longer contain the same number of columns. This is because one of the categorical values in a train feature did not occur in the test set. We'll correct this by adding a column of zeros to indicate that no sample is part of that category.</p>"
   ]
  },
  {
   "cell_type": "code",
   "execution_count": 9,
   "metadata": {},
   "outputs": [
    {
     "name": "stdout",
     "output_type": "stream",
     "text": [
      "Training set has 199522 samples, with 511 columns.\n",
      "Test set has 99761 samples, with 510 columns.\n"
     ]
    }
   ],
   "source": [
    "print('Training set has {} samples, with {} columns.'.format(train_df.shape[0], train_df.shape[1]))\n",
    "print('Test set has {} samples, with {} columns.'.format(test_df.shape[0], test_df.shape[1]))"
   ]
  },
  {
   "cell_type": "code",
   "execution_count": 10,
   "metadata": {},
   "outputs": [],
   "source": [
    "for col in train_df.columns:\n",
    "    if col not in test_df.columns:\n",
    "        test_df[col] = 0"
   ]
  },
  {
   "cell_type": "markdown",
   "metadata": {},
   "source": [
    "<p>We can verify that the column lengths now match.</p>"
   ]
  },
  {
   "cell_type": "code",
   "execution_count": 11,
   "metadata": {},
   "outputs": [
    {
     "name": "stdout",
     "output_type": "stream",
     "text": [
      "Training set has 199522 samples, with 511 columns.\n",
      "Test set has 99761 samples, with 511 columns.\n"
     ]
    }
   ],
   "source": [
    "print('Training set has {} samples, with {} columns.'.format(train_df.shape[0], train_df.shape[1]))\n",
    "print('Test set has {} samples, with {} columns.'.format(test_df.shape[0], test_df.shape[1]))"
   ]
  },
  {
   "cell_type": "markdown",
   "metadata": {},
   "source": [
    "## 5. Machine Learning\n",
    "\n",
    "### A. Initial Training and Model Selection\n",
    "<p>We would first like to train a few different models on the modified dataset in order to compare their performances. For this project, we compare three popular classification models: logistic regression, random forest, and gradient boosting.</p>\n",
    "\n",
    "#### Parameters\n",
    "<p>The parameters chosen for each model were kept close to the default values chosen by scikit-learn. For ensemble methods, choosing an estimator number between 64 and 128 typically provides best performance. Thus, we chose 100. For the logistic regression classifier, the solver was set to 'sag' or 'Stochastic Average Gradient'. This was chosen as it performs best on larger datasets, and is why the continuous features were scaled (according to scikit-learn documentation, 'sag' fast convergence is only guaranteed on features with approximately the same scale). We also increased the max iterations from the default 100 to 200 to ensure that the solver converges on this dataset.</p>"
   ]
  },
  {
   "cell_type": "code",
   "execution_count": 12,
   "metadata": {},
   "outputs": [
    {
     "name": "stderr",
     "output_type": "stream",
     "text": [
      "[Parallel(n_jobs=6)]: Using backend ThreadingBackend with 6 concurrent workers.\n"
     ]
    },
    {
     "name": "stdout",
     "output_type": "stream",
     "text": [
      "convergence after 157 epochs took 143 seconds\n"
     ]
    },
    {
     "name": "stderr",
     "output_type": "stream",
     "text": [
      "[Parallel(n_jobs=6)]: Done   1 out of   1 | elapsed:  2.4min finished\n",
      "[Parallel(n_jobs=6)]: Using backend ThreadingBackend with 6 concurrent workers.\n",
      "[Parallel(n_jobs=6)]: Done  38 tasks      | elapsed:   10.6s\n",
      "[Parallel(n_jobs=6)]: Done 100 out of 100 | elapsed:   25.8s finished\n"
     ]
    },
    {
     "name": "stdout",
     "output_type": "stream",
     "text": [
      "      Iter       Train Loss   Remaining Time \n",
      "         1           0.4234            4.19m\n",
      "         2           0.4030            3.67m\n",
      "         3           0.3854            3.55m\n",
      "         4           0.3736            3.70m\n",
      "         5           0.3645            3.54m\n",
      "         6           0.3551            3.55m\n",
      "         7           0.3469            3.50m\n",
      "         8           0.3390            3.64m\n",
      "         9           0.3339            3.52m\n",
      "        10           0.3276            3.43m\n",
      "        20           0.2874            3.03m\n",
      "        30           0.2694            2.60m\n",
      "        40           0.2592            2.20m\n",
      "        50           0.2523            1.82m\n",
      "        60           0.2483            1.43m\n",
      "        70           0.2448            1.06m\n",
      "        80           0.2421           41.51s\n",
      "        90           0.2404           20.21s\n",
      "       100           0.2385            0.00s\n"
     ]
    },
    {
     "name": "stderr",
     "output_type": "stream",
     "text": [
      "[Parallel(n_jobs=6)]: Using backend ThreadingBackend with 6 concurrent workers.\n",
      "[Parallel(n_jobs=6)]: Done  38 tasks      | elapsed:    0.1s\n",
      "[Parallel(n_jobs=6)]: Done 100 out of 100 | elapsed:    0.4s finished\n"
     ]
    }
   ],
   "source": [
    "# create classifiers\n",
    "logreg = LogisticRegression(solver='sag', max_iter=200, verbose=1, n_jobs=6)\n",
    "rfc = RandomForestClassifier(n_estimators=100, n_jobs=6, verbose=1)\n",
    "gradboost = GradientBoostingClassifier(n_estimators=100, verbose=1)\n",
    "\n",
    "classifiers = [logreg, rfc, gradboost]\n",
    "c_names = ['Logistic Regression', 'Random Forest', 'Gradient Boosting']\n",
    "\n",
    "# separate features and target columns\n",
    "train_features = train_df.drop(labels='over_50k_income', axis='columns')\n",
    "train_target = train_df['over_50k_income']\n",
    "\n",
    "test_features = test_df.drop(labels='over_50k_income', axis='columns')\n",
    "test_target = test_df['over_50k_income']\n",
    "\n",
    "# train the models\n",
    "for c in classifiers:\n",
    "    c.fit(train_features, train_target)\n",
    "\n",
    "# create a dataframe with the model and its score\n",
    "scores = [c.score(test_features, test_target) for c in classifiers]\n",
    "scores_df = pd.DataFrame({'name': c_names,\n",
    "                          'score': scores})"
   ]
  },
  {
   "cell_type": "code",
   "execution_count": 13,
   "metadata": {},
   "outputs": [
    {
     "data": {
      "text/html": [
       "<div>\n",
       "<style scoped>\n",
       "    .dataframe tbody tr th:only-of-type {\n",
       "        vertical-align: middle;\n",
       "    }\n",
       "\n",
       "    .dataframe tbody tr th {\n",
       "        vertical-align: top;\n",
       "    }\n",
       "\n",
       "    .dataframe thead th {\n",
       "        text-align: right;\n",
       "    }\n",
       "</style>\n",
       "<table border=\"1\" class=\"dataframe\">\n",
       "  <thead>\n",
       "    <tr style=\"text-align: right;\">\n",
       "      <th></th>\n",
       "      <th>name</th>\n",
       "      <th>score</th>\n",
       "    </tr>\n",
       "  </thead>\n",
       "  <tbody>\n",
       "    <tr>\n",
       "      <th>0</th>\n",
       "      <td>Logistic Regression</td>\n",
       "      <td>0.947986</td>\n",
       "    </tr>\n",
       "    <tr>\n",
       "      <th>1</th>\n",
       "      <td>Random Forest</td>\n",
       "      <td>0.948547</td>\n",
       "    </tr>\n",
       "    <tr>\n",
       "      <th>2</th>\n",
       "      <td>Gradient Boosting</td>\n",
       "      <td>0.954872</td>\n",
       "    </tr>\n",
       "  </tbody>\n",
       "</table>\n",
       "</div>"
      ],
      "text/plain": [
       "                  name     score\n",
       "0  Logistic Regression  0.947986\n",
       "1        Random Forest  0.948547\n",
       "2    Gradient Boosting  0.954872"
      ]
     },
     "execution_count": 13,
     "metadata": {},
     "output_type": "execute_result"
    }
   ],
   "source": [
    "scores_df"
   ]
  },
  {
   "cell_type": "markdown",
   "metadata": {},
   "source": [
    "<p>The models take a few minutes to train, and we obtain an accuracy of around 95%. Gradient Boosting performs the best of the three, so we will use that model to select the most important features in order to reduce training time and increase accuracy.</p>"
   ]
  },
  {
   "cell_type": "markdown",
   "metadata": {},
   "source": [
    "### B. Feature Selection\n",
    "\n",
    "<p>Gradient Boosting produced the best score, so we will use that model to select the most important features in order to reduce training time and increase accuracy.  We can obtain these features directly from the classifier. It should be noted that we also attempted feature selection by the feature importances produced by the random forest classifier, but found that gradient boosting yielded better results with fewer chosen features. Here we have sorted the features by importance, and produced a bar graph:</p>"
   ]
  },
  {
   "cell_type": "code",
   "execution_count": 14,
   "metadata": {},
   "outputs": [
    {
     "data": {
      "text/plain": [
       "<matplotlib.axes._subplots.AxesSubplot at 0x223058564a8>"
      ]
     },
     "execution_count": 14,
     "metadata": {},
     "output_type": "execute_result"
    },
    {
     "data": {
      "image/png": "[encoded data removed]",
      "text/plain": [
       "<Figure size 432x288 with 1 Axes>"
      ]
     },
     "metadata": {
      "needs_background": "light"
     },
     "output_type": "display_data"
    }
   ],
   "source": [
    "# create dataframe of feature importances\n",
    "feature_importances_df = pd.DataFrame({'feature': train_features.columns,\n",
    "                                       'importance': gradboost.feature_importances_})\n",
    "feature_importances_df = feature_importances_df.sort_values(by='importance', ascending=False)\n",
    "feature_importances_df.reset_index(inplace=True)\n",
    "\n",
    "# display the most important features\n",
    "top_feat_num = 10\n",
    "ax = sns.barplot(x='importance', y=feature_importances_df[:top_feat_num+1].index, \n",
    "                 orient='h', \n",
    "                 data=feature_importances_df[:top_feat_num+1])\n",
    "ax.set(title='{} most important features (gradient boosting)'.format(top_feat_num), \n",
    "       yticklabels=feature_importances_df.feature[:top_feat_num+1])\n",
    "ax"
   ]
  },
  {
   "cell_type": "markdown",
   "metadata": {},
   "source": [
    "<p>As discussed during the analysis, capital gains and federal income tax liability were the most important features in the gradient boosting model. Additionally, sex, age, and occupation code play important roles in the classifier's prediction.</p>\n",
    "<p>Let's observe the histogram distribution of the feature importances.</p>"
   ]
  },
  {
   "cell_type": "code",
   "execution_count": 15,
   "metadata": {
    "scrolled": true
   },
   "outputs": [
    {
     "data": {
      "text/plain": [
       "<matplotlib.axes._subplots.AxesSubplot at 0x223015fbba8>"
      ]
     },
     "execution_count": 15,
     "metadata": {},
     "output_type": "execute_result"
    },
    {
     "data": {
      "image/png": "[encoded data removed]",
      "text/plain": [
       "<Figure size 432x288 with 1 Axes>"
      ]
     },
     "metadata": {
      "needs_background": "light"
     },
     "output_type": "display_data"
    }
   ],
   "source": [
    "feature_importances_df['importance'].hist()"
   ]
  },
  {
   "cell_type": "markdown",
   "metadata": {},
   "source": [
    "<p>Most features in the dataset have extremely low importance scores, which allows us to remove many of them and decrease the complexity of the model. Further, too many features can cause a model to overfit and thus it is good to reduce where possible. We are able to extract around 80 features and improve accuracy.</p>"
   ]
  },
  {
   "cell_type": "code",
   "execution_count": 16,
   "metadata": {},
   "outputs": [
    {
     "name": "stdout",
     "output_type": "stream",
     "text": [
      "78 features were kept out of the original 510.\n"
     ]
    }
   ],
   "source": [
    "extracted_features = feature_importances_df.loc[feature_importances_df['importance'] > 0.0001]\n",
    "\n",
    "extracted_features_train = train_df[extracted_features['feature']]\n",
    "extracted_features_test = test_df[extracted_features['feature']]\n",
    "\n",
    "print('{} features were kept out of the original {}.'.format(extracted_features.shape[0], \n",
    "                                                             train_features.shape[1]))"
   ]
  },
  {
   "cell_type": "code",
   "execution_count": 17,
   "metadata": {},
   "outputs": [
    {
     "name": "stderr",
     "output_type": "stream",
     "text": [
      "[Parallel(n_jobs=6)]: Using backend ThreadingBackend with 6 concurrent workers.\n"
     ]
    },
    {
     "name": "stdout",
     "output_type": "stream",
     "text": [
      "convergence after 45 epochs took 11 seconds\n"
     ]
    },
    {
     "name": "stderr",
     "output_type": "stream",
     "text": [
      "[Parallel(n_jobs=6)]: Done   1 out of   1 | elapsed:   10.7s finished\n",
      "[Parallel(n_jobs=6)]: Using backend ThreadingBackend with 6 concurrent workers.\n",
      "[Parallel(n_jobs=6)]: Done  38 tasks      | elapsed:    4.2s\n",
      "[Parallel(n_jobs=6)]: Done 100 out of 100 | elapsed:    9.8s finished\n"
     ]
    },
    {
     "name": "stdout",
     "output_type": "stream",
     "text": [
      "      Iter       Train Loss   Remaining Time \n",
      "         1           0.4234           40.48s\n",
      "         2           0.4030           40.17s\n",
      "         3           0.3854           36.44s\n",
      "         4           0.3736           37.22s\n",
      "         5           0.3645           36.00s\n",
      "         6           0.3551           35.23s\n",
      "         7           0.3469           34.48s\n",
      "         8           0.3390           35.30s\n",
      "         9           0.3339           34.01s\n",
      "        10           0.3276           33.12s\n",
      "        20           0.2874           29.47s\n",
      "        30           0.2694           25.91s\n",
      "        40           0.2592           22.59s\n",
      "        50           0.2524           19.40s\n",
      "        60           0.2483           15.26s\n",
      "        70           0.2449           11.31s\n",
      "        80           0.2420            7.43s\n",
      "        90           0.2403            3.64s\n",
      "       100           0.2385            0.00s\n"
     ]
    },
    {
     "name": "stderr",
     "output_type": "stream",
     "text": [
      "[Parallel(n_jobs=6)]: Using backend ThreadingBackend with 6 concurrent workers.\n",
      "[Parallel(n_jobs=6)]: Done  38 tasks      | elapsed:    0.2s\n",
      "[Parallel(n_jobs=6)]: Done 100 out of 100 | elapsed:    0.5s finished\n"
     ]
    }
   ],
   "source": [
    "# train models on datasets with only most important features\n",
    "for c in classifiers:\n",
    "    c.fit(extracted_features_train, train_target)\n",
    "\n",
    "scores = [c.score(extracted_features_test, test_target) for c in classifiers]\n",
    "scores_df = pd.DataFrame({'name': c_names,\n",
    "                          'score': scores})"
   ]
  },
  {
   "cell_type": "code",
   "execution_count": 18,
   "metadata": {},
   "outputs": [
    {
     "data": {
      "text/html": [
       "<div>\n",
       "<style scoped>\n",
       "    .dataframe tbody tr th:only-of-type {\n",
       "        vertical-align: middle;\n",
       "    }\n",
       "\n",
       "    .dataframe tbody tr th {\n",
       "        vertical-align: top;\n",
       "    }\n",
       "\n",
       "    .dataframe thead th {\n",
       "        text-align: right;\n",
       "    }\n",
       "</style>\n",
       "<table border=\"1\" class=\"dataframe\">\n",
       "  <thead>\n",
       "    <tr style=\"text-align: right;\">\n",
       "      <th></th>\n",
       "      <th>name</th>\n",
       "      <th>score</th>\n",
       "    </tr>\n",
       "  </thead>\n",
       "  <tbody>\n",
       "    <tr>\n",
       "      <th>0</th>\n",
       "      <td>Logistic Regression</td>\n",
       "      <td>0.953489</td>\n",
       "    </tr>\n",
       "    <tr>\n",
       "      <th>1</th>\n",
       "      <td>Random Forest</td>\n",
       "      <td>0.953970</td>\n",
       "    </tr>\n",
       "    <tr>\n",
       "      <th>2</th>\n",
       "      <td>Gradient Boosting</td>\n",
       "      <td>0.955223</td>\n",
       "    </tr>\n",
       "  </tbody>\n",
       "</table>\n",
       "</div>"
      ],
      "text/plain": [
       "                  name     score\n",
       "0  Logistic Regression  0.953489\n",
       "1        Random Forest  0.953970\n",
       "2    Gradient Boosting  0.955223"
      ]
     },
     "execution_count": 18,
     "metadata": {},
     "output_type": "execute_result"
    }
   ],
   "source": [
    "scores_df"
   ]
  },
  {
   "cell_type": "markdown",
   "metadata": {},
   "source": [
    "<p>The training time has been greatly reduced and is now roughly 10 times faster, and we see that all models produce more accurate predictions on the test set. This indicates that we have correctly selected features and have produced more generalizable models.</p>"
   ]
  },
  {
   "cell_type": "markdown",
   "metadata": {},
   "source": [
    "## 6. Conclusion\n",
    "\n",
    "<p>We were able to produce a gradient boosting classification model with an accuracy of 95.5% on the provided test set, using scaled and encoded features to provide the best performance. This is a ~2% improvement on the most basic prediction of 0 for all samples, so we have achieved a better predictor of individuals who earn more than 50k income.</p>\n",
    "<p>The dataset contains many nonlinear relationships between features and the target column. Thus, it would potentially be a good opportunity to use a neural network as they tend to be the more accurate models on highly nonlinear datasets. However, neural networks are often hard to interpret and more traditional models such as those used here allow us to extract some insights from our dataset. Another potential source of improvement in the future could be performing a grid search on the parameters of the model to further optimize it. This was not done here to maintain simplicity, but would help choose the best parameters for the chosen model and could improve accuracy.</p>\n",
    "<p>For feature analysis and description, please read the other notebook (analysis_notebook.ipynb) included in this project.</p>"
   ]
  }
 ],
 "metadata": {
  "kernelspec": {
   "display_name": "Python 3",
   "language": "python",
   "name": "python3"
  },
  "language_info": {
   "codemirror_mode": {
    "name": "ipython",
    "version": 3
   },
   "file_extension": ".py",
   "mimetype": "text/x-python",
   "name": "python",
   "nbconvert_exporter": "python",
   "pygments_lexer": "ipython3",
   "version": "3.6.6"
  }
 },
 "nbformat": 4,
 "nbformat_minor": 2
}
